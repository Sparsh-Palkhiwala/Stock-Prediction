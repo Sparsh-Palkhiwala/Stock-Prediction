{
 "cells": [
  {
   "cell_type": "code",
   "execution_count": 3,
   "metadata": {},
   "outputs": [],
   "source": [
    "import numpy as np\n",
    "import pandas as pd\n",
    "data = pd.read_csv(\"/home/sparsh/Code/Stock-Prediction/Stock-Prediction/Dataset/stock/data.csv\")"
   ]
  },
  {
   "cell_type": "code",
   "execution_count": 5,
   "metadata": {},
   "outputs": [
    {
     "data": {
      "text/plain": [
       "<bound method NDFrame.tail of                                          Company Name      Symbol  \\\n",
       "0                                       3M India Ltd.     3MINDIA   \n",
       "1                                    Aarti Drugs Ltd.  AARTIDRUGS   \n",
       "2                               Aavas Financiers Ltd.       AAVAS   \n",
       "3                                      ABB India Ltd.         ABB   \n",
       "4                                   Abbott India Ltd.  ABBOTINDIA   \n",
       "..                                                ...         ...   \n",
       "496                           Zensar Technolgies Ltd.  ZENSARTECH   \n",
       "497  ZF Commercial Vehicle Control Systems India Ltd.   ZFCVINDIA   \n",
       "498                                       Zomato Ltd.      ZOMATO   \n",
       "499                           Zydus Lifesciences Ltd.   ZYDUSLIFE   \n",
       "500                               Zydus Wellness Ltd.   ZYDUSWELL   \n",
       "\n",
       "                           Industry Series      Open      High       Low  \\\n",
       "0                       Diversified     EQ  21950.00  21999.00  21126.05   \n",
       "1                        Healthcare     EQ    400.50    401.80    394.10   \n",
       "2                Financial Services     EQ   1997.10   2004.05   1894.50   \n",
       "3                     Capital Goods     EQ   2260.35   2311.50   2260.35   \n",
       "4                        Healthcare     EQ  18700.40  19200.00  18605.00   \n",
       "..                              ...    ...       ...       ...       ...   \n",
       "496          Information Technology     EQ    273.15    273.55    268.40   \n",
       "497  Automobile and Auto Components     EQ   7748.00   7900.00   7525.30   \n",
       "498               Consumer Services     EQ     54.15     56.70     52.55   \n",
       "499                      Healthcare     EQ    356.90    364.05    354.30   \n",
       "500      Fast Moving Consumer Goods     EQ   1635.00   1635.00   1605.00   \n",
       "\n",
       "     Previous Close  Last Traded Price   Change Percentage Change  \\\n",
       "0          21854.05           21575.00  -279.05             -1.28   \n",
       "1            403.85             400.00    -3.85             -0.95   \n",
       "2           2015.45            1943.15   -72.30             -3.59   \n",
       "3           2300.90            2280.00   -20.90             -0.91   \n",
       "4          18760.40           19199.80   439.40              2.34   \n",
       "..              ...                ...      ...               ...   \n",
       "496          272.10             270.00    -2.10             -0.77   \n",
       "497         7716.60            7680.00   -36.60             -0.47   \n",
       "498           53.85              56.00     2.15              3.99   \n",
       "499          357.00             364.00     7.00              1.96   \n",
       "500         1636.85            1627.00    -9.85             -0.60   \n",
       "\n",
       "     Share Volume  Value (Indian Rupee)  52 Week High  52 Week Low  \\\n",
       "0            4159          8.965357e+07      27800.00     17273.00   \n",
       "1           31782          1.262731e+07        749.75       378.00   \n",
       "2          150704          2.907728e+08       3340.00      1815.00   \n",
       "3           97053          2.210935e+08       2487.85      1618.05   \n",
       "4           12396          2.346770e+08      23934.45     15514.00   \n",
       "..            ...                   ...           ...          ...   \n",
       "496        186578          5.046748e+07        587.00       246.65   \n",
       "497         12790          9.884624e+07       8780.05      6793.30   \n",
       "498     112078641          6.193466e+09        169.00        50.05   \n",
       "499        862373          3.100145e+08        651.90       319.00   \n",
       "500         10803          1.749567e+07       2476.85      1430.00   \n",
       "\n",
       "    365 Day Percentage Change 30 Day Percentage Change  \n",
       "0                      -10.18                     8.22  \n",
       "1                      -42.92                    -5.10  \n",
       "2                      -25.69                    -9.39  \n",
       "3                       27.25                    -5.21  \n",
       "4                       11.61                     5.84  \n",
       "..                        ...                      ...  \n",
       "496                    -12.61                   -11.02  \n",
       "497                         -                     1.43  \n",
       "498                         -                   -27.86  \n",
       "499                         -                    -5.64  \n",
       "500                    -22.08                     6.25  \n",
       "\n",
       "[501 rows x 17 columns]>"
      ]
     },
     "execution_count": 5,
     "metadata": {},
     "output_type": "execute_result"
    }
   ],
   "source": []
  }
 ],
 "metadata": {
  "kernelspec": {
   "display_name": "Python 3",
   "language": "python",
   "name": "python3"
  },
  "language_info": {
   "codemirror_mode": {
    "name": "ipython",
    "version": 3
   },
   "file_extension": ".py",
   "mimetype": "text/x-python",
   "name": "python",
   "nbconvert_exporter": "python",
   "pygments_lexer": "ipython3",
   "version": "3.10.6"
  },
  "orig_nbformat": 4
 },
 "nbformat": 4,
 "nbformat_minor": 2
}
